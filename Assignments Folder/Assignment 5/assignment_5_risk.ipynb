{
 "cells": [
  {
   "cell_type": "markdown",
   "metadata": {},
   "source": [
    "The program should simulates 1000 individual battle rounds in Risk (3 attacker vs 2 defender) and plots the result.\n",
    "\n",
    "One battle round is one shake of the attacker and defender dice.\n",
    "\n",
    "I am being vague about what it plot, I will leave that to you.\n",
    "\n",
    "For the last few marks.\n",
    "\n",
    "A more complicated version simulates a full series of rounds for armies of arbitrary sizes, until one side is wiped out,\n",
    "\n",
    "and plots the results.\n",
    "\n",
    "(This is open ended, so it is only for the last few marks)\n",
    "\n",
    "Rules of Risk\n",
    "\n",
    "In Risk one army fights another. (using 6 sided dice) \n",
    "- dice_roll = 1-6\n",
    "\n",
    "In each battle round, the attacker can put forward up to three of their troops (3 dice).\n",
    "- attack_dice = 1-3\n",
    "troop = dice\n",
    "\n",
    "The defender can use up to two of their defending troops (2 dice).\n",
    "- defend_dice = 1-2\n",
    "\n",
    "Each side looses troops depending on the following rules:\n",
    "\n",
    "The two top dice dice are compared (ie the attackers top dice roll with the defenders top dice roll)\n",
    "- attack_dice (count_highest_2_dice_out_of_3) vs defend_dice(count all)\n",
    "\n",
    "If the attackers dice is the same or lower they loose one troop otherwise the defender looses a troop (ie if the attackers dice is higher)\n",
    "- if highest_attack_dice =< highest_defend_dice, attack_dice_total = -1 dice\n",
    "- if highest_attack_dice > highest_defend_dice, defend_dice_total = -1 dice \n",
    "\n",
    "The next two highest dice from each side are then compared (ie the attackers second highest to the defenders second highest)\n",
    "count_second_highest_attack_dice, count_second_highest_defend_dice\n",
    "\n",
    "If the attackers dice is the same or lower they loose one troop otherwise the defender looses a troop (ie if the attackers dice is higher)\n",
    "- if second_highest_attack_dice =< second_highest_defend_dice, attack_dice_total = -1 dice\n",
    "- if second_highest_attack_dice > second_highest_defend_dice, defend_dice_total = -1 dice \n",
    "\n",
    "\n",
    "Examples\n",
    "Attacker rolls\tDefender Rolls\tAttacker Loses\tDefender Loses\tExplanation\n",
    "6,4,1\t5,3\t0\t2\t6 beats 5 and 4 beats 3 (the one is ignored as the lowest)\n",
    "6,6,6\t6,3\t1\t1\tDefenders 6 beats the attackers first 6\n",
    "and the attackers second 6 beats the defenders 3\n",
    "5,4,4\t5,4\t2\t0\tThe defenders 5 beat the attackers 5\n",
    "and the defenders 4 beat the attackers 4\n",
    "(defender wins when the dice are the same)\n",
    "See the rules How to play Risk | Official Rules | UltraBoardGames\n",
    "search \"to decide a battle\"."
   ]
  },
  {
   "cell_type": "code",
   "execution_count": 1,
   "metadata": {},
   "outputs": [],
   "source": [
    "import numpy as np\n",
    "import matplotlib.pyplot as plt"
   ]
  },
  {
   "cell_type": "code",
   "execution_count": null,
   "metadata": {},
   "outputs": [],
   "source": [
    "def roll_dice(num_dice, num_rounds):\n",
    "    rolls = np.random.randint(1, 6, (num_rounds, num_dice))\n",
    "    ...\n",
    "    "
   ]
  },
  {
   "cell_type": "code",
   "execution_count": null,
   "metadata": {},
   "outputs": [],
   "source": [
    "attack_dice = \n",
    "defend_dice =\n",
    "count_highest_2_dice_out_of_3_attack_dice =\n",
    "count_all_defend_dice = \n",
    "\n",
    "highest_attack_dice =\n",
    "highest_defend_dice =  \n",
    "attack_dice_total =\n",
    "defend_dice_total =  \n",
    "\n",
    "if highest_attack_dice =< highest_defend_dice, attack_dice_total = -1 dice\n",
    "if highest_attack_dice > highest_defend_dice, defend_dice_total = -1 dice \n",
    "\n",
    "second_highest_attack_dice =  \n",
    "second_highest_defend_dice = \n",
    "\n",
    "- if second_highest_attack_dice =< second_highest_defend_dice, attack_dice_total = -1 dice\n",
    "- if second_highest_attack_dice > second_highest_defend_dice, defend_dice_total = -1 dice "
   ]
  },
  {
   "cell_type": "code",
   "execution_count": null,
   "metadata": {},
   "outputs": [],
   "source": []
  },
  {
   "cell_type": "code",
   "execution_count": null,
   "metadata": {},
   "outputs": [],
   "source": [
    "def simulate_battle_rounds(num_rounds=1000):\n",
    "\n",
    "\n",
    "\n",
    "    return ..."
   ]
  }
 ],
 "metadata": {
  "kernelspec": {
   "display_name": "Python 3",
   "language": "python",
   "name": "python3"
  },
  "language_info": {
   "codemirror_mode": {
    "name": "ipython",
    "version": 3
   },
   "file_extension": ".py",
   "mimetype": "text/x-python",
   "name": "python",
   "nbconvert_exporter": "python",
   "pygments_lexer": "ipython3",
   "version": "3.11.9"
  }
 },
 "nbformat": 4,
 "nbformat_minor": 2
}
